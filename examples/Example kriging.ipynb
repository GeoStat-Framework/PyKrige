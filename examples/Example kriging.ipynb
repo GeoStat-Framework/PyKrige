{
 "cells": [
  {
   "cell_type": "markdown",
   "metadata": {},
   "source": [
    "# About this notebook\n",
    "\n",
    "In this notebook the ordinary kriging algorithm is used to predict the amount of lead in the soil of the riverbank Meuse in the Netherlands. This is one of the textbook examples in Spatial statistics. The performance of making predictions with kriging is benchmarked with a simple nearest neighbours model. Finally a map is made by predicting a grid. The map is plot as a heatmap on top on an interactive map."
   ]
  },
  {
   "cell_type": "code",
   "execution_count": null,
   "metadata": {
    "collapsed": true
   },
   "outputs": [],
   "source": [
    "# This example requires some extra packages compared to the PyKrige package. \n",
    "# At the time of the creation, I used the conda package manager\n",
    "# and installed the following (with the versions at the time):\n",
    "# pandas 0.18.1, geopandas 0.2.1, seaborn 0.7.1, folium 0.2.1, shapely 1.5.16\n",
    "# If you use pip, \"pip install geopandas folium seaborn\" should work to.\n",
    "import os\n",
    "import requests\n",
    "import zipfile\n",
    "import geopandas as gpd\n",
    "import shapely\n",
    "import pandas as pd\n",
    "import matplotlib.pyplot as plt\n",
    "import matplotlib\n",
    "import numpy as np\n",
    "import folium\n",
    "from folium import plugins\n",
    "%matplotlib inline\n",
    "from pykrige.ok import OrdinaryKriging\n",
    "from sklearn.neighbors import KNeighborsRegressor\n",
    "from sklearn.model_selection import GridSearchCV\n",
    "import pykrige.kriging_tools as kt\n",
    "import seaborn as sb\n",
    "from IPython.core.display import HTML\n",
    "HTML(\"<style>.container { width:100% !important; }</style>\")"
   ]
  },
  {
   "cell_type": "markdown",
   "metadata": {},
   "source": [
    "## Download and import the shapefile\n",
    "\n",
    "- Download the zipfile from http://spatial-analyst.net/book/meusegrids\n",
    "- Extract the zipfile\n",
    "- Delete the zipfile"
   ]
  },
  {
   "cell_type": "code",
   "execution_count": null,
   "metadata": {
    "collapsed": false
   },
   "outputs": [],
   "source": [
    "if(~os.path.isfile('meuse.zip')):\n",
    "    url = 'http://spatial-analyst.net/book/system/files/meuse.zip'\n",
    "    results = requests.get(url)\n",
    "    print('Status code download: {}'.format(results.status_code))\n",
    "with open('meuse.zip', 'wb') as f:\n",
    "    f.write(results.content)\n",
    "zip_ref = zipfile.ZipFile('meuse.zip', 'r')\n",
    "zip_ref.extractall('meuse_example_data/')\n",
    "zip_ref.close()\n",
    "os.remove('meuse.zip')"
   ]
  },
  {
   "cell_type": "code",
   "execution_count": null,
   "metadata": {
    "collapsed": false
   },
   "outputs": [],
   "source": [
    "meuse = gpd.read_file('meuse_example_data/meuse.shp')\n",
    "meuse.crs = {'init':'epsg:28992'}\n",
    "meuse['x'] = meuse['geometry'].apply(lambda x: x.x)\n",
    "meuse['y'] = meuse['geometry'].apply(lambda x: x.y)\n",
    "meuse.sample()"
   ]
  },
  {
   "cell_type": "markdown",
   "metadata": {},
   "source": [
    "## Spatial plot"
   ]
  },
  {
   "cell_type": "code",
   "execution_count": null,
   "metadata": {
    "collapsed": false,
    "scrolled": false
   },
   "outputs": [],
   "source": [
    "feature_to_plot = 'lead'\n",
    "\n",
    "meuse_lat_long = meuse.to_crs({'init': 'epsg:4326'})\n",
    "meuse_lat_long['long'] = meuse_lat_long.geometry.apply(lambda x: x.x)\n",
    "meuse_lat_long['lat'] = meuse_lat_long.geometry.apply(lambda x: x.y)\n",
    "mean_long = np.mean(meuse_lat_long['long'])\n",
    "mean_lat = np.mean(meuse_lat_long['lat'])\n",
    "m = folium.Map([mean_lat, mean_long], zoom_start=13, tiles='Stamen Toner')\n",
    "scale = folium.colormap.linear.YlOrRd.scale(vmin=0, vmax=meuse_lat_long[feature_to_plot].max())\n",
    "for row in meuse_lat_long.iterrows():\n",
    "    folium.CircleMarker(location=[row[1]['lat'], row[1]['long']], radius=50, color=None, fill_opacity=1,\n",
    "                    fill_color=scale(row[1][feature_to_plot])).add_to(m)\n",
    "m.add_children(scale)"
   ]
  },
  {
   "cell_type": "markdown",
   "metadata": {},
   "source": [
    "## Split the data into test and train\n",
    "\n",
    "Control the random split with setting a seed so the results are reproducable."
   ]
  },
  {
   "cell_type": "code",
   "execution_count": null,
   "metadata": {
    "collapsed": false
   },
   "outputs": [],
   "source": [
    "np.random.seed(0)\n",
    "test_indexes = np.random.choice(a=meuse.index, size=int(np.round(len(meuse.index.values)/4)))\n",
    "train_indexes = [index for index in meuse.index if index not in test_indexes]\n",
    "meuse_test = meuse.loc[test_indexes,:].copy()\n",
    "meuse_train = meuse.loc[train_indexes,:].copy()\n",
    "print('Number of observations in training: {}, in test: {}'.format(len(meuse_train), len(meuse_test)))"
   ]
  },
  {
   "cell_type": "markdown",
   "metadata": {},
   "source": [
    "## Ordinary kriging\n",
    "\n",
    "Variogram parameters are set with trail and error."
   ]
  },
  {
   "cell_type": "code",
   "execution_count": null,
   "metadata": {
    "collapsed": false
   },
   "outputs": [],
   "source": [
    "model = OrdinaryKriging(x=meuse_train['x'], y=meuse_train['y'], z=meuse_train['lead'], verbose=True,\n",
    "                variogram_parameters=[13500, 900, 4000],\n",
    "                enable_plotting=True, nlags=30, weight=True, variogram_model='spherical')\n",
    "meuse_train['prediction'] = model.execute(style='points',xpoints=meuse_train['x'], ypoints=meuse_train['y'] )[0].data\n",
    "meuse_train['kriging_residual'] = meuse_train['lead'] - meuse_train['prediction']\n",
    "meuse_test['prediction'] = model.execute(style='points', xpoints=meuse_test['x'], ypoints=meuse_test['y'] )[0].data\n",
    "meuse_test['kriging_residual'] = meuse_test['lead'] - meuse_test['prediction']"
   ]
  },
  {
   "cell_type": "markdown",
   "metadata": {},
   "source": [
    "## Model performance\n",
    "\n",
    "- Performance on training data (kriging is an exact interpollator, so perfect prediction)\n",
    "- Performance on test data"
   ]
  },
  {
   "cell_type": "code",
   "execution_count": null,
   "metadata": {
    "collapsed": false
   },
   "outputs": [],
   "source": [
    "plt.figure(figsize=(6,6))\n",
    "plt.subplot(221)\n",
    "plt.plot(meuse_train['prediction'], meuse_train['lead'], '.')\n",
    "plt.title('Training: pred vs obs')\n",
    "plt.xlabel('Predictions')\n",
    "plt.ylabel('True value')\n",
    "plt.plot([0,700], [0,700], 'g--')\n",
    "plt.ylim(0,700)\n",
    "plt.xlim(0,700)\n",
    "plt.subplot(222)\n",
    "meuse_train['kriging_residual'].hist()\n",
    "plt.title('Hist training res\\nMedian absolute error: {:.1f}'.format(np.median(np.abs(meuse_train['kriging_residual']))))\n",
    "plt.subplot(223)\n",
    "plt.plot(meuse_test['prediction'], meuse_test['lead'], '.')\n",
    "plt.plot([0,700], [0,700], 'g--')\n",
    "plt.title('Test: pred vs obs')\n",
    "plt.xlabel('Predictions')\n",
    "plt.ylabel('True value')\n",
    "plt.ylim(0,700)\n",
    "plt.xlim(0,700)\n",
    "plt.subplot(224)\n",
    "meuse_test['kriging_residual'].hist()\n",
    "plt.title('Hist test res\\nMedian absolute error: {:.1f}'.format(np.median(np.abs(meuse_test['kriging_residual']))))\n",
    "plt.tight_layout()"
   ]
  },
  {
   "cell_type": "markdown",
   "metadata": {},
   "source": [
    "## Benchmark with Nearest Neighbours regression\n",
    "\n",
    "Optimise number of neighbours with sklearn gridsearch"
   ]
  },
  {
   "cell_type": "code",
   "execution_count": null,
   "metadata": {
    "collapsed": false
   },
   "outputs": [],
   "source": [
    "parameters = {'n_neighbors':np.arange(1,10)}\n",
    "nn_model = KNeighborsRegressor()\n",
    "nn_model_cv = GridSearchCV(nn_model, parameters)\n",
    "nn_model_cv = nn_model_cv.fit(meuse_train[['x', 'y']], meuse_train['lead']) \n",
    "print('Optimal number of neighbours {}'.format(nn_model_cv.best_params_))\n",
    "nn_model = nn_model_cv.best_estimator_\n",
    "meuse_test['nn_prediction'] = nn_model.predict(meuse_test[['x', 'y']])\n",
    "meuse_test['nn_residual'] = meuse_test['lead'] - meuse_test['nn_prediction']"
   ]
  },
  {
   "cell_type": "code",
   "execution_count": null,
   "metadata": {
    "collapsed": false
   },
   "outputs": [],
   "source": [
    "sb.set_style(\"whitegrid\")\n",
    "plt.figure(figsize=(4,4))\n",
    "sb.boxplot(data=meuse_test[[\"nn_residual\",\"kriging_residual\"]] )\n",
    "plt.title('Compairing residuals\\nmedian abs res NN: {:.1f}, Kriging {:.1f}\\nmean abs res NN: {:.1f}, Kriging: {:.1f}'\\\n",
    "          .format(np.median(np.abs(meuse_test['nn_residual'])), np.median(np.abs(meuse_test['kriging_residual'])),\n",
    "                 np.mean(np.abs(meuse_test['nn_residual'])), np.mean(np.abs(meuse_test['kriging_residual']))))"
   ]
  },
  {
   "cell_type": "markdown",
   "metadata": {},
   "source": [
    "## Help functions to sample a grid from a polygon\n",
    "\n",
    "As found on http://portolan.leaffan.net/creating-sample-points-with-ogr-and-shapely-pt-2-regular-grid-sampling/"
   ]
  },
  {
   "cell_type": "code",
   "execution_count": null,
   "metadata": {
    "collapsed": true
   },
   "outputs": [],
   "source": [
    "class PolygonPointSampler(object):\n",
    " \n",
    "    def __init__(self, polygon=''):\n",
    "        u\"\"\"\n",
    "        Initialize a new PolygonPointSampler object using the specified polygon\n",
    "        object (as allocated by Shapely). If no polygon is given a new empty\n",
    "        one is created and set as the base polygon.\n",
    "        \"\"\"\n",
    "        if polygon:\n",
    "            self.polygon = polygon\n",
    "        else:\n",
    "            self.polygon = Polygon()\n",
    "        self.samples = list()\n",
    "        self.sample_count = 0\n",
    "        self.prepared = False\n",
    " \n",
    "    def add_polygon(self, polygon):\n",
    "        u\"\"\"\n",
    "        Add another polygon entity to the base polygon by geometrically unifying\n",
    "        it with the current one.\n",
    "        \"\"\"\n",
    "        self.polygon = self.polygon.union(polygon)\n",
    "        self.prepared = False\n",
    "    \n",
    "    def get_spatial_df(self):\n",
    "        geo_df = pd.DataFrame(self.samples, columns=['geometry']).set_geometry('geometry')\n",
    "        geo_df['x'] = geo_df['geometry'].apply(lambda x: x.coords[0][0])\n",
    "        geo_df['y'] = geo_df['geometry'].apply(lambda x: x.coords[0][1])\n",
    "        return geo_df\n",
    " \n",
    "    def print_samples(self):\n",
    "        u\"\"\"\n",
    "        Print all sample points using their WKT representation.\n",
    "        \"\"\"\n",
    "        for sample_pt in self.samples:\n",
    "            print(sample_pt)\n",
    " \n",
    "    def prepare_sampling(self):\n",
    "        u\"\"\"\n",
    "        Prepare the actual sampling procedure by splitting up the specified base\n",
    "        polygon (that may consist of multiple simple polygons) and appending its\n",
    "        compartments to a dedicated list.\n",
    "        \"\"\"\n",
    "        self.src = list()\n",
    "        if hasattr(self.polygon, 'geoms'):\n",
    "            for py in self.polygon:\n",
    "                self.src.append(py)\n",
    "        else:\n",
    "            self.src.append(self.polygon)\n",
    "        self.prepared = True\n",
    " \n",
    "    def perform_sampling(self):\n",
    "        u\"\"\"\n",
    "        Create a stub for the actual sampling procedure.\n",
    "        \"\"\"\n",
    "        raise NotImplementedError\n",
    "    \n",
    "class RegularGridSampler(PolygonPointSampler):\n",
    "    def __init__(self, polygon = '', x_interval = 100, y_interval = 100):\n",
    "        super(self.__class__, self).__init__(polygon)\n",
    "        self.x_interval = x_interval\n",
    "        self.y_interval = y_interval\n",
    "    \n",
    "    def perform_sampling(self):\n",
    "        u\"\"\"\n",
    "        Perform sampling by substituting the polygon with a regular grid of\n",
    "        sample points within it. The distance between the sample points is\n",
    "        given by x_interval and y_interval.\n",
    "        \"\"\"\n",
    "        if not self.prepared:\n",
    "            self.prepare_sampling()\n",
    "        ll = self.polygon.bounds[:2]\n",
    "        ur = self.polygon.bounds[2:]\n",
    "        low_x = int(ll[0]) / self.x_interval * self.x_interval\n",
    "        upp_x = int(ur[0]) / self.x_interval * self.x_interval + self.x_interval\n",
    "        low_y = int(ll[1]) / self.y_interval * self.y_interval\n",
    "        upp_y = int(ur[1]) / self.y_interval * self.y_interval + self.y_interval\n",
    "        \n",
    "        for x in floatrange(low_x, upp_x, self.x_interval):\n",
    "            for y in floatrange(low_y, upp_y, self.y_interval):\n",
    "                p = shapely.geometry.Point(x, y)\n",
    "                if p.within(self.polygon):\n",
    "                    self.samples.append(p)\n",
    "\n",
    "def floatrange(start, stop, step):\n",
    "    while start < stop:\n",
    "        yield start\n",
    "        start += step\n"
   ]
  },
  {
   "cell_type": "markdown",
   "metadata": {},
   "source": [
    "## Sample a grid \n",
    "\n",
    "- Find the convex hull surrounding the measurements\n",
    "- Sample a grid as found with the help functions"
   ]
  },
  {
   "cell_type": "code",
   "execution_count": null,
   "metadata": {
    "collapsed": false
   },
   "outputs": [],
   "source": [
    "convex_hull = shapely.geometry.MultiPoint(list(meuse.geometry)).convex_hull.buffer(150)\n",
    "sampler = RegularGridSampler(convex_hull, x_interval=50, y_interval=50)\n",
    "sampler.perform_sampling()\n",
    "grid_points = sampler.get_spatial_df()\n",
    "plt.figure(figsize=(4,4))\n",
    "plt.plot(grid_points['x'], grid_points['y'], '.')\n",
    "plt.plot(meuse['x'], meuse['y'], 'r.')\n",
    "plt.title('Sampled grid')"
   ]
  },
  {
   "cell_type": "markdown",
   "metadata": {},
   "source": [
    "## Krige a value for each grid point"
   ]
  },
  {
   "cell_type": "code",
   "execution_count": null,
   "metadata": {
    "collapsed": false
   },
   "outputs": [],
   "source": [
    "grid_points['prediction'] = model.execute(style='points', xpoints=grid_points['x'], ypoints=grid_points['y'])[0].data"
   ]
  },
  {
   "cell_type": "markdown",
   "metadata": {},
   "source": [
    "## Transform data for a map\n",
    "\n",
    "- Transform to lat long projection\n",
    "- From long to wide format\n",
    "- Fill in missing values"
   ]
  },
  {
   "cell_type": "code",
   "execution_count": null,
   "metadata": {
    "collapsed": false
   },
   "outputs": [],
   "source": [
    "grid_points_gpd = grid_points.set_geometry('geometry')\n",
    "grid_points_gpd.crs = {'init':'epsg:28992'}\n",
    "grid_points_gpd = grid_points_gpd.to_crs({'init': 'epsg:4326'})\n",
    "grid_points_gpd['long'] = grid_points_gpd.geometry.apply(lambda x: x.x)\n",
    "grid_points_gpd['lat'] = grid_points_gpd.geometry.apply(lambda x: x.y)"
   ]
  },
  {
   "cell_type": "code",
   "execution_count": null,
   "metadata": {
    "collapsed": false
   },
   "outputs": [],
   "source": [
    "grid_points_pivot = grid_points_gpd.pivot(values='prediction', columns='x', index='y').fillna(0)\n",
    "grid_points_pivot = grid_points_pivot.loc[:,grid_points_pivot.columns.sort_values(ascending=True)]\n",
    "grid_points_pivot = grid_points_pivot.loc[grid_points_pivot.index.sort_values(ascending=True),:]"
   ]
  },
  {
   "cell_type": "code",
   "execution_count": null,
   "metadata": {
    "collapsed": false
   },
   "outputs": [],
   "source": [
    "plt.contourf(np.unique(grid_points_pivot.columns.values), np.unique(grid_points_pivot.index.values), \n",
    "             grid_points_pivot.values/np.nanmax(grid_points_pivot.values),20,cmap='GnBu')\n",
    "plt.plot(meuse['x'], meuse['y'], '.')\n",
    "plt.title('Kriged grid values')"
   ]
  },
  {
   "cell_type": "markdown",
   "metadata": {},
   "source": [
    "## Folium plot"
   ]
  },
  {
   "cell_type": "code",
   "execution_count": null,
   "metadata": {
    "collapsed": false
   },
   "outputs": [],
   "source": [
    "def color_function(value):\n",
    "    if (value==0) | (value==np.nan) : return (0,0,0,0)\n",
    "    else: \n",
    "        color = matplotlib.cm.YlOrRd(value) \n",
    "        return color"
   ]
  },
  {
   "cell_type": "code",
   "execution_count": null,
   "metadata": {
    "collapsed": false
   },
   "outputs": [],
   "source": [
    "m = folium.Map([mean_lat, mean_long], zoom_start=13, tiles='Stamen Toner')\n",
    "m.add_children(plugins.ImageOverlay(image = (grid_points_pivot.values/np.nanmax(grid_points_pivot.values)), \n",
    "                                           opacity=0.7,origin='lower',\n",
    "                                           colormap=color_function,\n",
    "                                   bounds = [[np.min(grid_points_gpd['lat']), np.min(grid_points_gpd['long'])],\n",
    "                                            [np.max(grid_points_gpd['lat']), np.max(grid_points_gpd['long'])]]))\n",
    "for row in meuse_lat_long.iterrows():\n",
    "    folium.CircleMarker(location=[row[1]['lat'], row[1]['long']], radius=50, color=None, fill_opacity=1,\n",
    "                    fill_color=scale(row[1][feature_to_plot])).add_to(m)\n",
    "m.add_children(scale)"
   ]
  },
  {
   "cell_type": "code",
   "execution_count": null,
   "metadata": {
    "collapsed": true
   },
   "outputs": [],
   "source": []
  }
 ],
 "metadata": {
  "anaconda-cloud": {},
  "kernelspec": {
   "display_name": "Python [pykrige_dev]",
   "language": "python",
   "name": "Python [pykrige_dev]"
  },
  "language_info": {
   "codemirror_mode": {
    "name": "ipython",
    "version": 3
   },
   "file_extension": ".py",
   "mimetype": "text/x-python",
   "name": "python",
   "nbconvert_exporter": "python",
   "pygments_lexer": "ipython3",
   "version": "3.5.2"
  }
 },
 "nbformat": 4,
 "nbformat_minor": 0
}
